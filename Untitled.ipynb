{
 "cells": [
  {
   "cell_type": "code",
   "execution_count": null,
   "metadata": {},
   "outputs": [],
   "source": [
    "code\n",
    "Replace a repeated word in a String\n",
    "Replace only first 2 repeated word in that string\n",
    "How can we use the range function without using the for loop and print it with the interval\n",
    "--> range(1,50,5) --> print this without using for\n",
    "\n",
    "we have simple long string which contain multiple similar name such as pranay. out of all the name we just want to change only first 2 name pranay with vicky\n",
    "\n",
    "•Given a string s, remove all its adjacent duplicate characters recursively.\n",
    "•i/p=abccabccba\n",
    "•o/p=\"ab\"\n",
    "•i/p = \"abccbccba\"\n",
    "•o/p =\" \""
   ]
  },
  {
   "cell_type": "code",
   "execution_count": 40,
   "id": "6a47752e",
   "metadata": {},
   "outputs": [
    {
     "name": "stdout",
     "output_type": "stream",
     "text": [
      "r 1\n",
      "['T', 'jhjshj']\n"
     ]
    }
   ],
   "source": [
    "# replace repeated word\n",
    "inp = \"tanuja hello world tanuja hsjdhs tanuja hhh tanuja\"\n",
    "inp = \"tanuja jhjshj\"\n",
    "to_replace = \"tanuja\"\n",
    "replace_with = \"T\"\n",
    "c =0\n",
    "r = 0\n",
    "new = []\n",
    "# for w in inp.split():\n",
    "#     if w==to_replace:\n",
    "#         c+=1\n",
    "#     print(\"c\",c)\n",
    "# if c>1:\n",
    "for w in inp.split():\n",
    "    if w==to_replace and r<2:\n",
    "        new.append(replace_with)\n",
    "        r+=1\n",
    "        print(\"r\",r)\n",
    "    else: \n",
    "        new.append(w)     \n",
    "    #new = inp.replace(\"tanuja\",\"T\")      \n",
    "print(new)    \n",
    "\n",
    "\n",
    "# ans = [w=replace_with for w in inp if w==to_replace]\n",
    "# ans\n"
   ]
  },
  {
   "cell_type": "code",
   "execution_count": 136,
   "id": "c0f99854",
   "metadata": {},
   "outputs": [
    {
     "name": "stdout",
     "output_type": "stream",
     "text": [
      "abccabccba\n",
      "s ababccba\n",
      "s ababba\n",
      "s abaa\n",
      "s ab\n",
      "ab\n",
      "s abbccba\n",
      "s accba\n",
      "s aba\n",
      "aba\n"
     ]
    }
   ],
   "source": [
    "def remove_adjacent_duplicates(s):\n",
    "    i = 0\n",
    "    n = len(s)\n",
    "    ix=0\n",
    "    while i < n - 1:\n",
    "        \n",
    "        if s[i] == s[i + 1]:\n",
    "            ix+=1\n",
    "            s = s[:i] + s[i + ix+1:]\n",
    "            print(\"s\",s)\n",
    "            return remove_adjacent_duplicates(s)\n",
    "        else:\n",
    "            i += 1\n",
    "\n",
    "    return s\n",
    "# Example usage:\n",
    "original_string = \"abccabccba\"\n",
    "print(original_string)\n",
    "result = remove_adjacent_duplicates(original_string)\n",
    "print(result)\n",
    "input_str2 = \"abccbccba\"\n",
    "output2 = remove_adjacent_duplicates(input_str2)\n",
    "print(output2)  # Output: \"\""
   ]
  },
  {
   "cell_type": "code",
   "execution_count": 134,
   "id": "54fcc75e",
   "metadata": {},
   "outputs": [
    {
     "name": "stdout",
     "output_type": "stream",
     "text": [
      "st ['a']\n",
      "st ['a', 'b']\n",
      "st ['a', 'b', 'c']\n",
      "st ['a', 'b']\n",
      "st ['a', 'b', 'a']\n",
      "st ['a', 'b', 'a', 'b']\n",
      "st ['a', 'b', 'a', 'b', 'c']\n",
      "st ['a', 'b', 'a', 'b']\n",
      "st ['a', 'b', 'a']\n",
      "st ['a', 'b']\n",
      "['a', 'b']\n",
      "st ['a']\n",
      "st ['a', 'b']\n",
      "st ['a', 'b', 'c']\n",
      "st ['a', 'b']\n",
      "st ['a']\n",
      "st ['a', 'c']\n",
      "st ['a']\n",
      "st ['a', 'b']\n",
      "st ['a', 'b', 'a']\n",
      "['a', 'b', 'a']\n"
     ]
    }
   ],
   "source": [
    "#s = \"abccbccba\"\n",
    "s = \"abccabccba\"\n",
    "def remove_dub(s):\n",
    "    st = []\n",
    "    for ch in s:\n",
    "        if len(st) == 0:\n",
    "            st.append(ch)\n",
    "        elif st[len(st)-1] == ch:\n",
    "            st.pop()\n",
    "        else:\n",
    "            st.append(ch)\n",
    "        print(\"st\",st)    \n",
    "    return st     \n",
    "print(remove_dub(s)) \n",
    "input_str2 = \"abccbccba\"\n",
    "output2 = remove_dub(input_str2)\n",
    "print(output2)  # Output: \"\"    "
   ]
  },
  {
   "cell_type": "code",
   "execution_count": 142,
   "id": "c928d8f9",
   "metadata": {},
   "outputs": [
    {
     "name": "stdout",
     "output_type": "stream",
     "text": [
      "ix 1\n",
      "s bccabccba\n",
      "ix 1\n",
      "s ccabccba\n",
      "ix 1\n",
      "s cabccba\n",
      "ix 1\n",
      "s abccba\n",
      "ix 1\n",
      "s bccba\n",
      "ix 1\n",
      "s ccba\n",
      "ix 1\n",
      "s cba\n",
      "ix 1\n",
      "s ba\n",
      "ix 1\n",
      "s a\n",
      "a\n",
      "ix 1\n",
      "s bccbccba\n",
      "ix 1\n",
      "s ccbccba\n",
      "ix 1\n",
      "s cbccba\n",
      "ix 1\n",
      "s bccba\n",
      "ix 1\n",
      "s ccba\n",
      "ix 1\n",
      "s cba\n",
      "ix 1\n",
      "s ba\n",
      "ix 1\n",
      "s a\n",
      "a\n"
     ]
    }
   ],
   "source": [
    "def remove_adjacent_duplicates(s):\n",
    "    i = 0\n",
    "    ix = 0\n",
    "    for i in range(len(s)-1):\n",
    "        ix = 0\n",
    "        for j in range(i,len(s)):\n",
    "            if s[i] == s[j]:\n",
    "                ix+=1\n",
    "                print(\"ix\",ix)\n",
    "            s = s[:j] + s[i + ix:]\n",
    "            print(\"s\",s)\n",
    "            return remove_adjacent_duplicates(s) \n",
    "            \n",
    "        i += 1\n",
    "    return s\n",
    "                       \n",
    "\n",
    "\n",
    "\n",
    "# Test case\n",
    "        \n",
    "\n",
    "# Test cases\n",
    "input_str1 = \"abccabccba\"\n",
    "output1 = remove_adjacent_duplicates(input_str1)\n",
    "print(output1)  # Output: \"ab\"\n",
    "\n",
    "input_str2 = \"abccbccba\"\n",
    "output2 = remove_adjacent_duplicates(input_str2)\n",
    "print(output2)  # Output: \"\""
   ]
  },
  {
   "cell_type": "code",
   "execution_count": 124,
   "id": "cf4f29c9",
   "metadata": {},
   "outputs": [
    {
     "data": {
      "text/plain": [
       "'a'"
      ]
     },
     "execution_count": 124,
     "metadata": {},
     "output_type": "execute_result"
    }
   ],
   "source": [
    "s = \"aa\"\n",
    "s[:-1]"
   ]
  },
  {
   "cell_type": "code",
   "execution_count": 143,
   "id": "9a6ef498",
   "metadata": {},
   "outputs": [
    {
     "name": "stdout",
     "output_type": "stream",
     "text": [
      "ab\n",
      "\n"
     ]
    }
   ],
   "source": [
    "def ans(str):\n",
    "    # print(str)\n",
    "    res = \"\" #after remove\n",
    "    ch = \"\" #curr char\n",
    "    cnt = 0\n",
    "    for i in range(len(str)):\n",
    "        if(ch != str[i]):\n",
    "            if cnt == 1:\n",
    "                res += ch\n",
    "            ch = str[i]\n",
    "            cnt = 1\n",
    "        else:\n",
    "            cnt += 1\n",
    "    if(cnt == 1):\n",
    "        res += ch\n",
    "    if(len(res) < len(str)):\n",
    "        res = ans(res)\n",
    "    return res\n",
    "\n",
    "# Test cases\n",
    "input_str1 = \"abccabccba\"\n",
    "output1 = ans(input_str1)\n",
    "print(output1)  # Output: \"ab\"\n",
    "\n",
    "input_str2 = \"abccbccba\"\n",
    "output2 = ans(input_str2)\n",
    "print(output2)  # Output: \"\""
   ]
  },
  {
   "cell_type": "code",
   "execution_count": 69,
   "id": "7147c184",
   "metadata": {},
   "outputs": [
    {
     "name": "stdout",
     "output_type": "stream",
     "text": [
      "printing all the details\n",
      "printing all the details\n",
      "Error: Not valid\n"
     ]
    }
   ],
   "source": [
    "# decorators\n",
    "\n",
    "def valid_user(func):\n",
    "    def check(uid):\n",
    "        if uid in [1,2,3,4]:\n",
    "            return func(uid)\n",
    "        else:\n",
    "            return \"Error: Not valid\"\n",
    "    return check    \n",
    "\n",
    "@valid_user\n",
    "def show_detail(user):\n",
    "    return(\"printing all the details\")\n",
    "\n",
    "@valid_user\n",
    "def add_detail(user):\n",
    "    return(\"adding to the details\")\n",
    "\n",
    "uid = [1,3,11]\n",
    "for id in uid:\n",
    "    res = show_detail(id)\n",
    "    print(res)\n",
    "    \n",
    "\n",
    "\n",
    "\n"
   ]
  },
  {
   "cell_type": "code",
   "execution_count": 90,
   "id": "24828e03",
   "metadata": {},
   "outputs": [
    {
     "name": "stdout",
     "output_type": "stream",
     "text": [
      "500\n"
     ]
    }
   ],
   "source": [
    "# encapsulation\n",
    "\n",
    "class Employee():\n",
    "    def __init__(self, name, salary):\n",
    "        self.name = name\n",
    "        self.__salary = salary \n",
    "    def getsalary(self):\n",
    "        return self.__salary\n",
    "\n",
    "e_obj = Employee(\"Tanuja\",500)\n",
    "#print(e_obj.name,e_obj._Employee__salary)\n",
    "\n",
    "print(e_obj.getsalary())\n",
    "\n"
   ]
  },
  {
   "cell_type": "code",
   "execution_count": 88,
   "metadata": {},
   "outputs": [
    {
     "name": "stdout",
     "output_type": "stream",
     "text": [
      "Name: Jessa 14\n"
     ]
    }
   ],
   "source": [
    "\n",
    "class Student:\n",
    "    def __init__(self, name, age):\n",
    "        # private member\n",
    "        self.name = name\n",
    "        self.__age = age\n",
    "\n",
    "    # getter method\n",
    "    def get_age(self):\n",
    "        return self.__age\n",
    "\n",
    "    # setter method\n",
    "    # def set_age(self, age):\n",
    "    #     self.__age = age\n",
    "\n",
    "stud = Student('Jessa', 14)\n",
    "\n",
    "# retrieving age using getter\n",
    "print('Name:', stud.name, stud.get_age())\n",
    "\n",
    "# # changing age using setter\n",
    "# stud.set_age(16)\n",
    "\n",
    "# # retrieving age using getter\n",
    "# print('Name:', stud.name, stud.get_age())"
   ]
  },
  {
   "cell_type": "code",
   "execution_count": 101,
   "metadata": {},
   "outputs": [
    {
     "name": "stdout",
     "output_type": "stream",
     "text": [
      "name is bmw\n",
      "speed is  250\n",
      "name is porche\n",
      "speed is  500\n",
      "area of square is 4\n",
      "area of rectangle is 10\n"
     ]
    }
   ],
   "source": [
    "'''\n",
    "polymorphism\n",
    "method overriding - len(string) = number of char, len(list) = number of element\n",
    "method overloading - range(10), range(1,10), range(1,10,2)\n",
    "'''\n",
    "class BMW(Car):\n",
    "    def show_detail(name,speed):\n",
    "        print(\"name is\", name)\n",
    "        print(\"speed is \", speed)\n",
    "\n",
    "class Porshe(Car):\n",
    "    def show_detail(name,speed):\n",
    "        print(\"name is\", name)\n",
    "        print(\"speed is \", speed)\n",
    "\n",
    "BMW.show_detail(\"bmw\",250)\n",
    "Porshe.show_detail(\"porche\",500)\n",
    "\n",
    "# overloading\n",
    "\n",
    "def find_area(a,b=0):\n",
    "    if b>0:\n",
    "        print(\"area of rectangle is\", a*b)\n",
    "    else:\n",
    "        print(\"area of square is\",a*a)\n",
    "\n",
    "square_area = find_area(2)\n",
    "rectangle_area = find_area(2,5)    \n",
    "\n"
   ]
  },
  {
   "cell_type": "code",
   "execution_count": null,
   "id": "7b287d46",
   "metadata": {},
   "outputs": [],
   "source": [
    "'''\n",
    "instance method = instance variable inside a method = def show(self): self.name = name\n",
    "static method = a general utility method that performs a task in isolation. important- it doesn't use \"self\"\n",
    "class method, \n",
    "'''\n"
   ]
  },
  {
   "cell_type": "code",
   "execution_count": null,
   "id": "7e883dae",
   "metadata": {},
   "outputs": [],
   "source": []
  },
  {
   "cell_type": "code",
   "execution_count": null,
   "id": "a9145485",
   "metadata": {},
   "outputs": [],
   "source": []
  },
  {
   "cell_type": "code",
   "execution_count": null,
   "metadata": {},
   "outputs": [],
   "source": []
  }
 ],
 "metadata": {
  "kernelspec": {
   "display_name": "Python 3",
   "language": "python",
   "name": "python3"
  },
  "language_info": {
   "codemirror_mode": {
    "name": "ipython",
    "version": 3
   },
   "file_extension": ".py",
   "mimetype": "text/x-python",
   "name": "python",
   "nbconvert_exporter": "python",
   "pygments_lexer": "ipython3",
   "version": "3.11.5"
  }
 },
 "nbformat": 4,
 "nbformat_minor": 5
}
